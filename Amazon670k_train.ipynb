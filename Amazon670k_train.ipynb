{
 "cells": [
  {
   "cell_type": "code",
   "execution_count": 21,
   "metadata": {},
   "outputs": [],
   "source": [
    "import numpy as np\n",
    "import torch\n",
    "from xclib.data import data_utils"
   ]
  },
  {
   "cell_type": "code",
   "execution_count": 3,
   "metadata": {},
   "outputs": [],
   "source": [
    "#Training samples and features\n",
    "features, labels, num_samples, num_features, num_labels = data_utils.read_data('Amazon670k/train.txt')"
   ]
  },
  {
   "cell_type": "code",
   "execution_count": 16,
   "metadata": {},
   "outputs": [],
   "source": [
    "#Test samples and features\n",
    "features_t, labels_t, num_labels_t, num_features_t, num_labels_t = data_utils.read_data('Amazon670k/test.txt')"
   ]
  },
  {
   "cell_type": "code",
   "execution_count": 26,
   "metadata": {},
   "outputs": [],
   "source": [
    "#Convert features to sparse PyTorch array\n",
    "coo_trn = features.tocoo()\n",
    "sparse_trn = torch.sparse.LongTensor(torch.LongTensor([coo_trn.row.tolist(), coo_trn.col.tolist()]),\n",
    "                              torch.LongTensor(coo_trn.data.astype(np.float32)))"
   ]
  },
  {
   "cell_type": "code",
   "execution_count": 28,
   "metadata": {},
   "outputs": [],
   "source": [
    "#Same for test\n",
    "coo_tst = features_t.tocoo()\n",
    "sparse_tst = torch.sparse.LongTensor(torch.LongTensor([coo_tst.row.tolist(), coo_tst.col.tolist()]),\n",
    "                              torch.LongTensor(coo_tst.data.astype(np.float32)))"
   ]
  },
  {
   "cell_type": "code",
   "execution_count": 31,
   "metadata": {},
   "outputs": [],
   "source": [
    "#Sparse labels\n",
    "coo_labels = labels.tocoo()\n",
    "sp_labels_trn = torch.sparse.LongTensor(torch.LongTensor([coo_labels.row.tolist(), coo_labels.col.tolist()]),\n",
    "                              torch.LongTensor(coo_labels.data.astype(np.float32)))"
   ]
  },
  {
   "cell_type": "code",
   "execution_count": 32,
   "metadata": {},
   "outputs": [],
   "source": [
    "#Sparse test labels\n",
    "coo_labels_t = labels_t.tocoo()\n",
    "sp_labels_tst = torch.sparse.LongTensor(torch.LongTensor([coo_labels_t.row.tolist(), coo_labels_t.col.tolist()]),\n",
    "                              torch.LongTensor(coo_labels_t.data.astype(np.float32)))"
   ]
  },
  {
   "cell_type": "code",
   "execution_count": 38,
   "metadata": {},
   "outputs": [
    {
     "data": {
      "text/plain": [
       "torch.Size([153025, 135909])"
      ]
     },
     "execution_count": 38,
     "metadata": {},
     "output_type": "execute_result"
    }
   ],
   "source": [
    "sparse_tst.shape"
   ]
  },
  {
   "cell_type": "code",
   "execution_count": 54,
   "metadata": {},
   "outputs": [
    {
     "ename": "KeyboardInterrupt",
     "evalue": "",
     "output_type": "error",
     "traceback": [
      "\u001b[0;31m---------------------------------------------------------------------------\u001b[0m",
      "\u001b[0;31mKeyboardInterrupt\u001b[0m                         Traceback (most recent call last)",
      "Input \u001b[0;32mIn [54]\u001b[0m, in \u001b[0;36m<cell line: 3>\u001b[0;34m()\u001b[0m\n\u001b[1;32m      2\u001b[0m trn\u001b[38;5;241m=\u001b[39m[]\n\u001b[1;32m      3\u001b[0m \u001b[38;5;28;01mfor\u001b[39;00m i \u001b[38;5;129;01min\u001b[39;00m \u001b[38;5;28mrange\u001b[39m(sparse_trn\u001b[38;5;241m.\u001b[39mshape[\u001b[38;5;241m0\u001b[39m]):\n\u001b[0;32m----> 4\u001b[0m     trn\u001b[38;5;241m.\u001b[39mappend([\u001b[43msparse_trn\u001b[49m\u001b[43m[\u001b[49m\u001b[43mi\u001b[49m\u001b[43m]\u001b[49m,sp_labels_trn[i]])\n",
      "\u001b[0;31mKeyboardInterrupt\u001b[0m: "
     ]
    }
   ],
   "source": [
    "#Build training and test sets for data loading\n",
    "#trn=[]\n",
    "#for i in range(sparse_trn.shape[0]):\n",
    "#    trn.append([sparse_trn[i],sp_labels_trn[i]])"
   ]
  },
  {
   "cell_type": "code",
   "execution_count": null,
   "metadata": {},
   "outputs": [],
   "source": []
  }
 ],
 "metadata": {
  "kernelspec": {
   "display_name": "Python 3 (ipykernel)",
   "language": "python",
   "name": "python3"
  },
  "language_info": {
   "codemirror_mode": {
    "name": "ipython",
    "version": 3
   },
   "file_extension": ".py",
   "mimetype": "text/x-python",
   "name": "python",
   "nbconvert_exporter": "python",
   "pygments_lexer": "ipython3",
   "version": "3.8.3"
  }
 },
 "nbformat": 4,
 "nbformat_minor": 4
}
